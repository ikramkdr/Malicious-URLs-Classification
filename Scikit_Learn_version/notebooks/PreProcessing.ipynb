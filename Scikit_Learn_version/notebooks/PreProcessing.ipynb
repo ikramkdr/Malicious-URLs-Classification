{
 "cells": [
  {
   "cell_type": "markdown",
   "id": "9008cf0f",
   "metadata": {},
   "source": [
    "#  02 – Data Preprocessing\n",
    "\n",
    "In this notebook, we prepare the extracted features for model training.\n",
    "We will:\n",
    "- Load the saved features dataset\n",
    "- Split the data into input features `X` and labels `y`\n",
    "- Create a training and testing set\n"
   ]
  },
  {
   "cell_type": "code",
   "execution_count": null,
   "id": "4ba17834",
   "metadata": {},
   "outputs": [
    {
     "data": {
      "text/html": [
       "<div>\n",
       "<style scoped>\n",
       "    .dataframe tbody tr th:only-of-type {\n",
       "        vertical-align: middle;\n",
       "    }\n",
       "\n",
       "    .dataframe tbody tr th {\n",
       "        vertical-align: top;\n",
       "    }\n",
       "\n",
       "    .dataframe thead th {\n",
       "        text-align: right;\n",
       "    }\n",
       "</style>\n",
       "<table border=\"1\" class=\"dataframe\">\n",
       "  <thead>\n",
       "    <tr style=\"text-align: right;\">\n",
       "      <th></th>\n",
       "      <th>url_length</th>\n",
       "      <th>num_digits</th>\n",
       "      <th>num_special_chars</th>\n",
       "      <th>num_dots</th>\n",
       "      <th>num_subdirs</th>\n",
       "      <th>has_ip</th>\n",
       "      <th>has_https</th>\n",
       "      <th>label</th>\n",
       "    </tr>\n",
       "  </thead>\n",
       "  <tbody>\n",
       "    <tr>\n",
       "      <th>0</th>\n",
       "      <td>16</td>\n",
       "      <td>0</td>\n",
       "      <td>3</td>\n",
       "      <td>2</td>\n",
       "      <td>0</td>\n",
       "      <td>0</td>\n",
       "      <td>0</td>\n",
       "      <td>1</td>\n",
       "    </tr>\n",
       "    <tr>\n",
       "      <th>1</th>\n",
       "      <td>35</td>\n",
       "      <td>1</td>\n",
       "      <td>4</td>\n",
       "      <td>2</td>\n",
       "      <td>2</td>\n",
       "      <td>0</td>\n",
       "      <td>0</td>\n",
       "      <td>0</td>\n",
       "    </tr>\n",
       "    <tr>\n",
       "      <th>2</th>\n",
       "      <td>31</td>\n",
       "      <td>1</td>\n",
       "      <td>5</td>\n",
       "      <td>2</td>\n",
       "      <td>3</td>\n",
       "      <td>0</td>\n",
       "      <td>0</td>\n",
       "      <td>0</td>\n",
       "    </tr>\n",
       "    <tr>\n",
       "      <th>3</th>\n",
       "      <td>88</td>\n",
       "      <td>7</td>\n",
       "      <td>16</td>\n",
       "      <td>3</td>\n",
       "      <td>3</td>\n",
       "      <td>0</td>\n",
       "      <td>0</td>\n",
       "      <td>1</td>\n",
       "    </tr>\n",
       "    <tr>\n",
       "      <th>4</th>\n",
       "      <td>235</td>\n",
       "      <td>22</td>\n",
       "      <td>13</td>\n",
       "      <td>2</td>\n",
       "      <td>3</td>\n",
       "      <td>0</td>\n",
       "      <td>0</td>\n",
       "      <td>1</td>\n",
       "    </tr>\n",
       "  </tbody>\n",
       "</table>\n",
       "</div>"
      ],
      "text/plain": [
       "   url_length  num_digits  num_special_chars  num_dots  num_subdirs  has_ip  \\\n",
       "0          16           0                  3         2            0       0   \n",
       "1          35           1                  4         2            2       0   \n",
       "2          31           1                  5         2            3       0   \n",
       "3          88           7                 16         3            3       0   \n",
       "4         235          22                 13         2            3       0   \n",
       "\n",
       "   has_https  label  \n",
       "0          0      1  \n",
       "1          0      0  \n",
       "2          0      0  \n",
       "3          0      1  \n",
       "4          0      1  "
      ]
     },
     "execution_count": 1,
     "metadata": {},
     "output_type": "execute_result"
    }
   ],
   "source": [
    "import pandas as pd\n",
    "\n",
    "# Load the dataset containing the engineered URL features\n",
    "features_df = pd.read_csv(\"../data/features_dataset.csv\")\n",
    "\n",
    "# Display the first few rows to inspect the structure\n",
    "features_df.head()\n"
   ]
  },
  {
   "cell_type": "markdown",
   "id": "be0e1282",
   "metadata": {},
   "source": [
    "##  Separate features and labels\n",
    "\n",
    "We split the dataset into:\n",
    "- `X`: input features\n",
    "- `y`: target label (0 = benign, 1 = malicious)"
   ]
  },
  {
   "cell_type": "code",
   "execution_count": null,
   "id": "6086125d",
   "metadata": {},
   "outputs": [],
   "source": [
    "# Split the dataset into features (X) and target labels (y)\n",
    "X = features_df.drop('label', axis=1)  # All columns except 'label'\n",
    "y = features_df['label']              # The target column\n"
   ]
  },
  {
   "cell_type": "code",
   "execution_count": null,
   "id": "3f69861b",
   "metadata": {},
   "outputs": [
    {
     "name": "stdout",
     "output_type": "stream",
     "text": [
      "Training set size: (488393, 7)\n",
      "Test set size: (162798, 7)\n"
     ]
    }
   ],
   "source": [
    "from sklearn.model_selection import train_test_split\n",
    "\n",
    "# Split the dataset into training and testing sets\n",
    "# - 75% for training, 25% for testing\n",
    "# - Stratify ensures the class distribution (benign/malicious) is preserved\n",
    "# - random_state ensures reproducibility\n",
    "X_train, X_test, y_train, y_test = train_test_split(\n",
    "    X, y,\n",
    "    test_size=0.25,\n",
    "    random_state=42,\n",
    "    stratify=y\n",
    ")\n",
    "\n",
    "print(\"Training set size:\", X_train.shape)\n",
    "print(\"Test set size:\", X_test.shape)\n"
   ]
  },
  {
   "cell_type": "code",
   "execution_count": null,
   "id": "1dd5fab9",
   "metadata": {},
   "outputs": [],
   "source": [
    "from sklearn.preprocessing import StandardScaler\n",
    "\n",
    "# Standardize the feature values to have zero mean and unit variance\n",
    "# Important: fit the scaler only on the training data to avoid data leakage\n",
    "scaler = StandardScaler()\n",
    "X_train_scaled = scaler.fit_transform(X_train)   # Fit + transform on training set\n",
    "X_test_scaled = scaler.transform(X_test)         # Only transform on test set\n"
   ]
  },
  {
   "cell_type": "code",
   "execution_count": null,
   "id": "acb785af",
   "metadata": {},
   "outputs": [
    {
     "name": "stdout",
     "output_type": "stream",
     "text": [
      "Moyenne des features (X_train_scaled): [ 2.23175303e-17  1.88404183e-17 -5.69431640e-17 -4.71956116e-17\n",
      " -2.85734221e-17 -3.31707751e-17  4.18999265e-18]\n",
      "Écart-type des features (X_train_scaled): [1. 1. 1. 1. 1. 1. 1.]\n"
     ]
    }
   ],
   "source": [
    "import numpy as np\n",
    "\n",
    "# Check that the training features are properly standardized\n",
    "# The mean should be ~0 and the standard deviation ~1 for each feature\n",
    "print(\"Mean of features (X_train_scaled):\", np.mean(X_train_scaled, axis=0))\n",
    "print(\"Standard deviation of features (X_train_scaled):\", np.std(X_train_scaled, axis=0))\n"
   ]
  },
  {
   "cell_type": "code",
   "execution_count": null,
   "id": "568db557",
   "metadata": {},
   "outputs": [
    {
     "name": "stdout",
     "output_type": "stream",
     "text": [
      "Exemple de données après scaling :\n",
      "[[-0.65200784 -0.21517581 -0.63675689 -0.80300455 -1.02535078 -0.13976043\n",
      "  -0.15766416]\n",
      " [-0.69675067 -0.38602931 -0.63675689 -0.13080544 -0.4995363  -0.13976043\n",
      "  -0.15766416]\n",
      " [-0.40592226 -0.47145606 -0.38020784 -0.13080544  0.55209266 -0.13976043\n",
      "  -0.15766416]\n",
      " [-0.38355084 -0.47145606 -0.38020784 -0.13080544 -0.4995363  -0.13976043\n",
      "  -0.15766416]\n",
      " [-0.27169376 -0.30060256 -0.25193331 -0.80300455  0.02627818 -0.13976043\n",
      "  -0.15766416]]\n"
     ]
    }
   ],
   "source": [
    "# Display the first 5 rows of the scaled training data\n",
    "# This gives a sense of what the standardized features look like\n",
    "print(\"Example of scaled data:\")\n",
    "print(X_train_scaled[:5])\n"
   ]
  },
  {
   "cell_type": "code",
   "execution_count": null,
   "id": "7ad39b8a",
   "metadata": {},
   "outputs": [],
   "source": [
    "# Save the processed datasets as .npy files to reuse them in the next notebook (Model Training)\n",
    "import numpy as np\n",
    "\n",
    "np.save(\"X_train_scaled.npy\", X_train_scaled)\n",
    "np.save(\"X_test_scaled.npy\", X_test_scaled)\n",
    "np.save(\"y_train.npy\", y_train)\n",
    "np.save(\"y_test.npy\", y_test)\n"
   ]
  },
  {
   "cell_type": "markdown",
   "id": "4070adb1",
   "metadata": {},
   "source": [
    "##  Preprocessing Completed\n",
    "\n",
    "The dataset has been successfully preprocessed and is now ready for model training.\n",
    "\n",
    "We performed the following steps:\n",
    "- Loaded the engineered feature dataset\n",
    "- Split the data into training and testing sets\n",
    "- Standardized the feature values using `StandardScaler`\n",
    "- Saved the processed arrays as `.npy` files for later use\n",
    "\n",
    "You can now proceed to the next notebook: **Model_training.ipynb** to build and evaluate classification models.\n"
   ]
  }
 ],
 "metadata": {
  "kernelspec": {
   "display_name": "Python 3",
   "language": "python",
   "name": "python3"
  },
  "language_info": {
   "codemirror_mode": {
    "name": "ipython",
    "version": 3
   },
   "file_extension": ".py",
   "mimetype": "text/x-python",
   "name": "python",
   "nbconvert_exporter": "python",
   "pygments_lexer": "ipython3",
   "version": "3.11.9"
  }
 },
 "nbformat": 4,
 "nbformat_minor": 5
}
