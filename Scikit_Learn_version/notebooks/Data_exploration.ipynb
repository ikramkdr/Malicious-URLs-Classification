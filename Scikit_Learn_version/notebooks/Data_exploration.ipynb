{
 "cells": [
  {
   "cell_type": "markdown",
   "id": "a02efb70",
   "metadata": {},
   "source": [
    "# **Malicious URLs Classification**\n",
    "**Team members:**\n",
    "\n",
    "**Yousra Houacine**   &   **Ikram Kadri** \n",
    "\n",
    "\n",
    "This notebook is part of a Machine Learning project for the academic year 2024/2025.  \n",
    "The goal is to build a binary classifier that detects whether a given URL is **benign** or **malicious**.\n",
    "\n",
    "##  Dataset\n",
    "\n",
    "-  Source: [Kaggle – Malicious URLs Dataset](https://www.kaggle.com/datasets/naveenbhadouria/malicious)\n",
    "-  Total URLs: 651,191\n",
    "-  Features: only raw URLs and original label\n",
    "-  Classes: `benign`, `phishing`, `defacement`, `malware` → transformed into `benign` and `malicious`\n",
    "\n",
    "---\n",
    "\n",
    "##  Objectives of this notebook\n",
    "\n",
    "- Load and explore the dataset\n",
    "- Analyze the class distribution\n",
    "- Engineer basic URL-based features\n",
    "- Prepare the data for machine learning models\n"
   ]
  },
  {
   "cell_type": "code",
   "execution_count": null,
   "id": "6ead8426",
   "metadata": {},
   "outputs": [
    {
     "name": "stdout",
     "output_type": "stream",
     "text": [
      "Shape: (651191, 2)\n",
      "\n",
      "Colonnes: Index(['url', 'type'], dtype='object')\n"
     ]
    },
    {
     "data": {
      "text/html": [
       "<div>\n",
       "<style scoped>\n",
       "    .dataframe tbody tr th:only-of-type {\n",
       "        vertical-align: middle;\n",
       "    }\n",
       "\n",
       "    .dataframe tbody tr th {\n",
       "        vertical-align: top;\n",
       "    }\n",
       "\n",
       "    .dataframe thead th {\n",
       "        text-align: right;\n",
       "    }\n",
       "</style>\n",
       "<table border=\"1\" class=\"dataframe\">\n",
       "  <thead>\n",
       "    <tr style=\"text-align: right;\">\n",
       "      <th></th>\n",
       "      <th>url</th>\n",
       "      <th>type</th>\n",
       "    </tr>\n",
       "  </thead>\n",
       "  <tbody>\n",
       "    <tr>\n",
       "      <th>0</th>\n",
       "      <td>br-icloud.com.br</td>\n",
       "      <td>phishing</td>\n",
       "    </tr>\n",
       "    <tr>\n",
       "      <th>1</th>\n",
       "      <td>mp3raid.com/music/krizz_kaliko.html</td>\n",
       "      <td>benign</td>\n",
       "    </tr>\n",
       "    <tr>\n",
       "      <th>2</th>\n",
       "      <td>bopsecrets.org/rexroth/cr/1.htm</td>\n",
       "      <td>benign</td>\n",
       "    </tr>\n",
       "    <tr>\n",
       "      <th>3</th>\n",
       "      <td>http://www.garage-pirenne.be/index.php?option=...</td>\n",
       "      <td>defacement</td>\n",
       "    </tr>\n",
       "    <tr>\n",
       "      <th>4</th>\n",
       "      <td>http://adventure-nicaragua.net/index.php?optio...</td>\n",
       "      <td>defacement</td>\n",
       "    </tr>\n",
       "  </tbody>\n",
       "</table>\n",
       "</div>"
      ],
      "text/plain": [
       "                                                 url        type\n",
       "0                                   br-icloud.com.br    phishing\n",
       "1                mp3raid.com/music/krizz_kaliko.html      benign\n",
       "2                    bopsecrets.org/rexroth/cr/1.htm      benign\n",
       "3  http://www.garage-pirenne.be/index.php?option=...  defacement\n",
       "4  http://adventure-nicaragua.net/index.php?optio...  defacement"
      ]
     },
     "execution_count": 1,
     "metadata": {},
     "output_type": "execute_result"
    }
   ],
   "source": [
    "import pandas as pd\n",
    "import matplotlib.pyplot as plt\n",
    "import seaborn as sns\n",
    "\n",
    "# Load the CSV file containing raw URLs and their labels\n",
    "df = pd.read_csv(\"../data/malicious_phish1.csv\")\n",
    "\n",
    "# Display dataset shape and column names\n",
    "print(\"Shape:\", df.shape)\n",
    "print(\"\\nColonnes:\", df.columns)\n",
    "\n",
    "# Show the first few rows of the dataset\n",
    "df.head()\n"
   ]
  },
  {
   "cell_type": "code",
   "execution_count": null,
   "id": "f5394e99",
   "metadata": {},
   "outputs": [
    {
     "data": {
      "text/plain": [
       "type\n",
       "benign        0.657415\n",
       "defacement    0.148124\n",
       "phishing      0.144521\n",
       "malware       0.049939\n",
       "Name: proportion, dtype: float64"
      ]
     },
     "execution_count": 2,
     "metadata": {},
     "output_type": "execute_result"
    }
   ],
   "source": [
    "# Check if there are any missing values in the dataset.\n",
    "# This helps ensure data quality before proceeding with feature engineering or model training.\n",
    "\n",
    "df.isnull().sum()\n"
   ]
  },
  {
   "cell_type": "markdown",
   "id": "4dfa0790",
   "metadata": {},
   "source": [
    "## Convert multiclass labels to binary labels\n",
    "\n",
    "The original class distribution is **highly imbalanced**, with `benign` representing over 65% of the data, while `malware` and others are underrepresented.\n",
    "\n",
    "To simplify the classification task and reduce issues caused by class imbalance, we merge all attack-related categories — `phishing`, `defacement`, and `malware` — into a single class: **malicious**.\n",
    "\n",
    "This turns the problem into a **binary classification task**:\n",
    "- `benign` → safe\n",
    "- `malicious` → any harmful URL\n",
    "\n",
    "This strategy improves model training stability, reduces bias toward the majority class, and better reflects real-world cybersecurity needs (i.e., is the URL dangerous or not).\n"
   ]
  },
  {
   "cell_type": "code",
   "execution_count": null,
   "id": "6a118ace",
   "metadata": {},
   "outputs": [
    {
     "name": "stdout",
     "output_type": "stream",
     "text": [
      "label\n",
      "benign       428103\n",
      "malicious    223088\n",
      "Name: count, dtype: int64\n"
     ]
    },
    {
     "data": {
      "image/png": "[encoded data removed]",
      "text/plain": [
       "<Figure size 600x400 with 1 Axes>"
      ]
     },
     "metadata": {},
     "output_type": "display_data"
    }
   ],
   "source": [
    "# Group the original classes into two: 'benign' vs 'malicious'\n",
    "# If the original type is 'benign', keep it; otherwise, label it as 'malicious'\n",
    "df['label'] = df['type'].apply(lambda x: 'benign' if x == 'benign' else 'malicious')\n",
    "\n",
    "# Check the distribution of the new binary labels\n",
    "print(df['label'].value_counts())\n",
    "\n",
    "# Visualize the class distribution using a bar plot\n",
    "import seaborn as sns\n",
    "import matplotlib.pyplot as plt\n",
    "\n",
    "plt.figure(figsize=(6, 4))\n",
    "sns.countplot(data=df, x='label', order=df['label'].value_counts().index)\n",
    "plt.title('Distribution: benign vs malicious')\n",
    "plt.xlabel('Class')\n",
    "plt.ylabel('Number of URLs')\n",
    "plt.tight_layout()\n",
    "plt.show()\n"
   ]
  },
  {
   "cell_type": "markdown",
   "id": "9a527e27",
   "metadata": {},
   "source": [
    "##  Feature Extraction from URLs\n",
    "\n",
    "Before training any machine learning model, we must transform the raw URL text into meaningful **numerical features**.\n",
    "\n",
    "The goal is to capture characteristics of each URL that may help distinguish between **benign** and **malicious** links.\n",
    "\n",
    "The following features are extracted:\n",
    "\n",
    "- `url_length` : total number of characters in the URL\n",
    "- `num_digits` : how many digits (0-9) appear in the URL\n",
    "- `num_special_chars` : number of special characters (e.g., `@`, `-`, `=`, `!`)\n",
    "- `num_dots` : number of dots `.` (usually indicates subdomains)\n",
    "- `num_subdirs` : number of slashes `/` (may indicate deep paths)\n",
    "- `has_ip` : 1 if the URL contains an IP address instead of a domain name\n",
    "- `has_https` : 1 if the URL starts with `https` (considered more secure)\n",
    "\n",
    "These features are then stored in a new DataFrame called `features_df`, along with the binary label:\n",
    "- `0` → benign\n",
    "- `1` → malicious"
   ]
  },
  {
   "cell_type": "code",
   "execution_count": null,
   "id": "94389997",
   "metadata": {},
   "outputs": [],
   "source": [
    "import numpy as np\n",
    "import re\n",
    "\n",
    "# Extract the URLs from the original dataframe and ensure they're strings\n",
    "urls = np.array(df['url'].astype(str).tolist(), dtype=str)\n",
    "\n",
    "# Feature engineering: extract various characteristics from each URL\n",
    "url_length = np.char.str_len(urls)  # Total number of characters in the URL\n",
    "num_digits = np.array([sum(c.isdigit() for c in url) for url in urls])  # Count of numeric characters\n",
    "num_special_chars = np.array([len(re.findall(r'[^\\w\\s]', url)) for url in urls])  # Count of special characters (e.g. !, @, /)\n",
    "num_dots = np.char.count(urls, '.')  # Count of dots '.'\n",
    "num_subdirs = np.char.count(urls, '/')  # Count of slashes '/'\n",
    "has_ip = np.array([1 if re.search(r'\\d+\\.\\d+\\.\\d+\\.\\d+', url) else 0 for url in urls])  # 1 if URL contains an IP address\n",
    "has_https = np.char.startswith(urls, 'https').astype(int)  # 1 if URL starts with HTTPS\n",
    "\n",
    "# Combine all features into a new DataFrame for further analysis or model input\n",
    "features_df = pd.DataFrame({\n",
    "    'url_length': url_length,\n",
    "    'num_digits': num_digits,\n",
    "    'num_special_chars': num_special_chars,\n",
    "    'num_dots': num_dots,\n",
    "    'num_subdirs': num_subdirs,\n",
    "    'has_ip': has_ip,\n",
    "    'has_https': has_https,\n",
    "    'label': df['label'].map({'benign': 0, 'malicious': 1})  # Convert labels to numeric: 0 for benign, 1 for malicious\n",
    "})\n"
   ]
  },
  {
   "cell_type": "code",
   "execution_count": null,
   "id": "eae2203b",
   "metadata": {},
   "outputs": [],
   "source": [
    "# Save the extracted features and labels to a CSV file for later use (e.g., in model training)\n",
    "features_df.to_csv(\"../data/features_dataset.csv\", index=False)\n"
   ]
  },
  {
   "cell_type": "markdown",
   "id": "b10d098f",
   "metadata": {},
   "source": [
    "## Feature Dataset Created\n",
    "\n",
    "The new dataset has been successfully saved as `features_dataset.csv`.  \n",
    "It contains a set of **engineered features** extracted from the raw URLs, which are useful for machine learning classification.\n",
    "\n"
   ]
  }
 ],
 "metadata": {
  "kernelspec": {
   "display_name": "Python 3",
   "language": "python",
   "name": "python3"
  },
  "language_info": {
   "codemirror_mode": {
    "name": "ipython",
    "version": 3
   },
   "file_extension": ".py",
   "mimetype": "text/x-python",
   "name": "python",
   "nbconvert_exporter": "python",
   "pygments_lexer": "ipython3",
   "version": "3.11.9"
  }
 },
 "nbformat": 4,
 "nbformat_minor": 5
}
